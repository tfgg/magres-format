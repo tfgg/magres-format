{
 "cells": [
  {
   "cell_type": "markdown",
   "metadata": {},
   "source": [
    "Getting started with chemical shifts\n",
    "===================================="
   ]
  },
  {
   "cell_type": "markdown",
   "metadata": {},
   "source": [
    "First we need to load in Python the appropriate bits from our `magres.atoms` module, namely the `MagresAtoms` class. This will contain our calculation result."
   ]
  },
  {
   "cell_type": "code",
   "execution_count": 1,
   "metadata": {
    "collapsed": false
   },
   "outputs": [],
   "source": [
    "from __future__ import print_function\n",
    "\n",
    "from magres.atoms import MagresAtoms\n",
    "from numpy import mean"
   ]
  },
  {
   "cell_type": "markdown",
   "metadata": {},
   "source": [
    "Next, we'll load our `.magres` calculation output file. This could be from any code, but this one in particular is from a CASTEP calculation."
   ]
  },
  {
   "cell_type": "code",
   "execution_count": 2,
   "metadata": {
    "collapsed": false
   },
   "outputs": [],
   "source": [
    "atoms = MagresAtoms.load_magres('../samples/ethanol-all.magres')"
   ]
  },
  {
   "cell_type": "markdown",
   "metadata": {},
   "source": [
    "We now have our atoms loaded into the `atoms` variable. This behaves like a normal `list` with a bit extra. Let's check how many we have."
   ]
  },
  {
   "cell_type": "code",
   "execution_count": 3,
   "metadata": {
    "collapsed": false
   },
   "outputs": [
    {
     "name": "stdout",
     "output_type": "stream",
     "text": [
      "We have 9 atoms\n"
     ]
    }
   ],
   "source": [
    "print(\"We have\", len(atoms), \"atoms\")"
   ]
  },
  {
   "cell_type": "markdown",
   "metadata": {},
   "source": [
    "That's the correct number for ethanol and our structure, which is a single ethanol molecule in a large box, emulating a vacuum.\n",
    "\n",
    "Let's iterate through the `atoms` structure and print out the unreferenced isotropic magnetic shielding for each one. We do this by accessing the `ms.iso` property on each one."
   ]
  },
  {
   "cell_type": "code",
   "execution_count": 4,
   "metadata": {
    "collapsed": false
   },
   "outputs": [
    {
     "name": "stdout",
     "output_type": "stream",
     "text": [
      "1H1 29.5926190591\n",
      "1H2 30.2560510084\n",
      "1H3 30.1027534841\n",
      "1H4 26.9800272217\n",
      "1H5 27.3904129776\n",
      "1H6 31.9849757497\n",
      "13C1 156.467218182\n",
      "13C2 109.857140107\n",
      "17O1 268.028520177\n"
     ]
    }
   ],
   "source": [
    "for atom in atoms:\n",
    "    print(atom, atom.ms.iso)"
   ]
  },
  {
   "cell_type": "markdown",
   "metadata": {},
   "source": [
    "Let's set an arbitrary reference on the hydrogens and print the chemical shieldings for just those."
   ]
  },
  {
   "cell_type": "code",
   "execution_count": 5,
   "metadata": {
    "collapsed": false
   },
   "outputs": [
    {
     "name": "stdout",
     "output_type": "stream",
     "text": [
      "1H1 -19.5926190591\n",
      "1H2 -20.2560510084\n",
      "1H3 -20.1027534841\n",
      "1H4 -16.9800272217\n",
      "1H5 -17.3904129776\n",
      "1H6 -21.9849757497\n"
     ]
    }
   ],
   "source": [
    "atoms.species('H').set_reference(10.0)\n",
    "\n",
    "for atom in atoms.species('H'):\n",
    "    print(atom, atom.ms.cs)"
   ]
  },
  {
   "cell_type": "markdown",
   "metadata": {},
   "source": [
    "We've used a *selector* over the `atoms` structure, in this case the `species` selector. This returns a sub list of atoms that match the given species.\n",
    "\n",
    "There are other selectors, such as the `within` selector. This returns all atoms within a given radius of a particular point and respects periodicity, i.e. you'll get multiple images of the same atom in a crystal. Here we'll find all atoms within 2 Å of the C1 atom and print out the isotropic and anisotropic magnetic shielding."
   ]
  },
  {
   "cell_type": "code",
   "execution_count": 6,
   "metadata": {
    "collapsed": false
   },
   "outputs": [
    {
     "name": "stdout",
     "output_type": "stream",
     "text": [
      "1H1 29.5926190591 8.94151483127\n",
      "1H2 30.2560510084 8.18850823039\n",
      "1H3 30.1027534841 7.28759653709\n",
      "13C1 156.467218182 33.7970367459\n",
      "13C2 109.857140107 70.2510167561\n"
     ]
    }
   ],
   "source": [
    "for atom in atoms.within(atoms.C1, 2.0):\n",
    "    print(atom, atom.ms.iso, atom.ms.aniso)"
   ]
  },
  {
   "cell_type": "markdown",
   "metadata": {},
   "source": [
    "There are a number of other conventions available in addition to the isotropic and anisotropic shieldings, such as `span` and `skew`. [Read more in the module documentation](http://tfgg.github.io/magres-format/build/html/atoms.html#magres.atoms.MagresAtomMs).\n",
    "\n",
    "You can access attributes directly on collections of atoms, returning a list of that property. E.g., to get all the hydrogen atom's isotropic magnetic shieldings:"
   ]
  },
  {
   "cell_type": "code",
   "execution_count": 7,
   "metadata": {
    "collapsed": false
   },
   "outputs": [
    {
     "data": {
      "text/plain": [
       "ListPropertyView([29.592619059099999, 30.256051008433332, 30.102753484133331, 26.980027221666671, 27.390412977566669, 31.98497574966667])"
      ]
     },
     "execution_count": 7,
     "metadata": {},
     "output_type": "execute_result"
    }
   ],
   "source": [
    "atoms.species('H').ms.iso"
   ]
  },
  {
   "cell_type": "markdown",
   "metadata": {},
   "source": [
    "This allows us to concisely take the mean of the magnetic shieldings of all the hydrogens bonded to each of the C1, C2, and O1 atoms by using the `bonded` property on each atom. This gives, if present, the collection of atoms bonded to that atom."
   ]
  },
  {
   "cell_type": "code",
   "execution_count": 8,
   "metadata": {
    "collapsed": false
   },
   "outputs": [
    {
     "name": "stdout",
     "output_type": "stream",
     "text": [
      "C1 H mean ms iso =  29.9838078506\n",
      "C2 H mean ms iso =  28.7851386496\n",
      "O1 H mean ms iso =  31.9849757497\n"
     ]
    }
   ],
   "source": [
    "print(\"C1 H mean ms iso = \", mean(atoms.C1.bonded.species('H').ms.iso))\n",
    "print(\"C2 H mean ms iso = \", mean(atoms.C2.bonded.species('H').ms.iso))\n",
    "print(\"O1 H mean ms iso = \", mean(atoms.O1.bonded.species('H').ms.iso))"
   ]
  },
  {
   "cell_type": "markdown",
   "metadata": {},
   "source": [
    " You can also directly access the magnetic shielding tensor `sigma` and its eigenvalues and eigenvectors."
   ]
  },
  {
   "cell_type": "code",
   "execution_count": 9,
   "metadata": {
    "collapsed": false
   },
   "outputs": [
    {
     "name": "stdout",
     "output_type": "stream",
     "text": [
      "Magnetic shielding tensor, sigma\n",
      "[[ 150.36339808  -10.15515726   -0.2283921 ]\n",
      " [   0.26262154  160.89621961   23.09329641]\n",
      " [   7.60589797   15.67968987  158.14203685]]\n",
      "\n",
      "Eigenvectors of sigma\n",
      "[array([-0.42122012, -0.90608125, -0.03987944]), array([-0.62630201,  0.25878997,  0.73537307]), array([ 0.65598735, -0.33473051,  0.67648805])]\n",
      "\n",
      "Eigenvalues of sigma\n",
      "[137.26423106282505, 153.13884747124231, 178.99857601293263]\n"
     ]
    }
   ],
   "source": [
    "print(\"Magnetic shielding tensor, sigma\")\n",
    "print(atoms.C1.ms.sigma)\n",
    "\n",
    "print()\n",
    "print(\"Eigenvectors of sigma\")\n",
    "print(atoms.C1.ms.evecs)\n",
    "\n",
    "print()\n",
    "print(\"Eigenvalues of sigma\")\n",
    "print(atoms.C1.ms.evals)"
   ]
  }
 ],
 "metadata": {
  "kernelspec": {
   "display_name": "Python 3",
   "language": "python",
   "name": "python3"
  },
  "language_info": {
   "codemirror_mode": {
    "name": "ipython",
    "version": 3
   },
   "file_extension": ".py",
   "mimetype": "text/x-python",
   "name": "python",
   "nbconvert_exporter": "python",
   "pygments_lexer": "ipython3",
   "version": "3.5.1"
  }
 },
 "nbformat": 4,
 "nbformat_minor": 0
}
