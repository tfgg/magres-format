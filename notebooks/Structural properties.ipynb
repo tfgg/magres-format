{
 "cells": [
  {
   "cell_type": "markdown",
   "metadata": {},
   "source": [
    "Calculating structural properties\n",
    "=================================\n",
    "\n",
    "Quite often you want to calculate some geometric, structural properties of a structure or set of structures, for example the mean bond angles between certain species, or the polyhedral strain. This tutorial goes through various ways to easily extract such quantities from `.magres` files.\n",
    "\n",
    "As usual, we start by importing the `MagresAtoms` Python class and reading in a `.magres` and naming it `atoms`."
   ]
  },
  {
   "cell_type": "code",
   "execution_count": 1,
   "metadata": {
    "collapsed": false
   },
   "outputs": [
    {
     "name": "stdout",
     "output_type": "stream",
     "text": [
      "Populating the interactive namespace from numpy and matplotlib\n"
     ]
    }
   ],
   "source": [
    "from __future__ import print_function\n",
    "import warnings\n",
    "warnings.filterwarnings(\"ignore\") \n",
    "%pylab inline\n",
    "\n",
    "from magres.atoms import MagresAtoms"
   ]
  },
  {
   "cell_type": "code",
   "execution_count": 2,
   "metadata": {
    "collapsed": false
   },
   "outputs": [],
   "source": [
    "atoms = MagresAtoms.load_magres('../samples/T1Si0.magres')"
   ]
  },
  {
   "cell_type": "markdown",
   "metadata": {},
   "source": [
    "Bond lengths\n",
    "------------"
   ]
  },
  {
   "cell_type": "markdown",
   "metadata": {},
   "source": [
    "We can calculate the distance between two atoms, for example between the Al1 atom and its neighbour, the O1 atom."
   ]
  },
  {
   "cell_type": "code",
   "execution_count": 3,
   "metadata": {
    "collapsed": false
   },
   "outputs": [
    {
     "data": {
      "text/plain": [
       "1.7623362335263948"
      ]
     },
     "execution_count": 3,
     "metadata": {},
     "output_type": "execute_result"
    }
   ],
   "source": [
    "atoms.dist(atoms.Al1, atoms.O1)"
   ]
  },
  {
   "cell_type": "markdown",
   "metadata": {},
   "source": [
    "We might then calculate the distance between Al1 and the Si1 atom bonded to the bridging O1 atom."
   ]
  },
  {
   "cell_type": "code",
   "execution_count": 4,
   "metadata": {
    "collapsed": false
   },
   "outputs": [
    {
     "data": {
      "text/plain": [
       "2.9562849997928144"
      ]
     },
     "execution_count": 4,
     "metadata": {},
     "output_type": "execute_result"
    }
   ],
   "source": [
    "atoms.dist(atoms.Al1, atoms.Si1)"
   ]
  },
  {
   "cell_type": "markdown",
   "metadata": {},
   "source": [
    "Let's loop over the first two aluminium atoms (for sake of space) and print out the Al-O bond length."
   ]
  },
  {
   "cell_type": "code",
   "execution_count": 5,
   "metadata": {
    "collapsed": false
   },
   "outputs": [
    {
     "name": "stdout",
     "output_type": "stream",
     "text": [
      "27Al1 17O1 1.7623362335263948\n",
      "27Al1 17O18 1.7541994014367361\n",
      "27Al1 17O31 1.7632462822875878\n",
      "27Al1 17O44 1.7565585985107373\n",
      "27Al2 17O5 1.752370109309104\n",
      "27Al2 17O6 1.7287666123569134\n",
      "27Al2 17O7 1.7787802000247248\n",
      "27Al2 17O8 1.761199875085165\n"
     ]
    }
   ],
   "source": [
    "for atom_Al in atoms.species('Al')[:2]:\n",
    "    for atom_O in atoms.species('O').within(atom_Al, 3.0):\n",
    "        print(atom_Al, atom_O, atoms.dist(atom_Al, atom_O))"
   ]
  },
  {
   "cell_type": "markdown",
   "metadata": {},
   "source": [
    "We could take a mean to find out the average Al-O bond length, with a standard deviation."
   ]
  },
  {
   "cell_type": "code",
   "execution_count": 6,
   "metadata": {
    "collapsed": false
   },
   "outputs": [
    {
     "name": "stdout",
     "output_type": "stream",
     "text": [
      "Mean bond length = 1.75230470421 +- 0.0209888992786\n"
     ]
    }
   ],
   "source": [
    "dists = []\n",
    "\n",
    "for atom_Al in atoms.species('Al'):\n",
    "    for atom_O in atoms.species('O').within(atom_Al, 3.0):\n",
    "        dists.append(atoms.dist(atom_Al, atom_O))\n",
    "        \n",
    "print(\"Mean bond length =\", mean(dists), \"+-\", std(dists))"
   ]
  },
  {
   "cell_type": "markdown",
   "metadata": {},
   "source": [
    "And we could even plot a histogram of the Al-O bond length distribution."
   ]
  },
  {
   "cell_type": "code",
   "execution_count": 7,
   "metadata": {
    "collapsed": false
   },
   "outputs": [
    {
     "data": {
      "text/plain": [
       "(array([  4.,   2.,   4.,  10.,  12.,  12.,  20.,  16.,  11.,  15.,  12.,\n",
       "         23.,  12.,  14.,  11.,   3.,   3.,   2.,   3.,   3.]),\n",
       " array([ 1.70591764,  1.71088507,  1.7158525 ,  1.72081992,  1.72578735,\n",
       "         1.73075478,  1.7357222 ,  1.74068963,  1.74565706,  1.75062449,\n",
       "         1.75559191,  1.76055934,  1.76552677,  1.7704942 ,  1.77546162,\n",
       "         1.78042905,  1.78539648,  1.7903639 ,  1.79533133,  1.80029876,\n",
       "         1.80526619]),\n",
       " <a list of 20 Patch objects>)"
      ]
     },
     "execution_count": 7,
     "metadata": {},
     "output_type": "execute_result"
    },
    {
     "data": {
      "image/png": "[encoded data removed]",
      "text/plain": [
       "<matplotlib.figure.Figure at 0x108135208>"
      ]
     },
     "metadata": {},
     "output_type": "display_data"
    }
   ],
   "source": [
    "hist(dists, bins=20)"
   ]
  },
  {
   "cell_type": "markdown",
   "metadata": {},
   "source": [
    "Bond angles\n",
    "-----------"
   ]
  },
  {
   "cell_type": "markdown",
   "metadata": {},
   "source": [
    "We can use the angle function to calculate the X-Y-Z bond angle of three atoms, X, Y and Z. For example, the Al1-O1-S1 bond angle is"
   ]
  },
  {
   "cell_type": "code",
   "execution_count": 8,
   "metadata": {
    "collapsed": false
   },
   "outputs": [
    {
     "data": {
      "text/plain": [
       "2.1049612709736554"
      ]
     },
     "execution_count": 8,
     "metadata": {},
     "output_type": "execute_result"
    }
   ],
   "source": [
    "atoms.angle(atoms.Al1, atoms.O1, atoms.Si1)"
   ]
  },
  {
   "cell_type": "markdown",
   "metadata": {},
   "source": [
    "That's in radians. If we want it in degrees, we can either do the maths or specify the degrees option."
   ]
  },
  {
   "cell_type": "code",
   "execution_count": 9,
   "metadata": {
    "collapsed": false
   },
   "outputs": [
    {
     "data": {
      "text/plain": [
       "120.60539686528409"
      ]
     },
     "execution_count": 9,
     "metadata": {},
     "output_type": "execute_result"
    }
   ],
   "source": [
    "atoms.angle(atoms.Al1, atoms.O1, atoms.Si1, degrees=True)"
   ]
  },
  {
   "cell_type": "markdown",
   "metadata": {},
   "source": [
    "We could do a similar thing as we did with bond lengths to look at the Al-O-X bond angle distribution, where X is any second nearest neighbour."
   ]
  },
  {
   "cell_type": "code",
   "execution_count": 10,
   "metadata": {
    "collapsed": false
   },
   "outputs": [
    {
     "name": "stdout",
     "output_type": "stream",
     "text": [
      "Mean bond angle = 119.244646177 +- 5.4306395789\n"
     ]
    }
   ],
   "source": [
    "angles = []\n",
    "\n",
    "# Loop over every aluminium atom\n",
    "for atom_Al in atoms.species('Al'):\n",
    "    \n",
    "    # Find all oxygens within 2.0 A of the Al atom, i.e. ones bonded\n",
    "    for atom_O in atoms.species('O').within(atom_Al, 2.0):\n",
    "        \n",
    "        # Find all Si and Al within 2.0 of the bonded oxygen\n",
    "        for atom_X in atoms.species('Si', 'Al').within(atom_O, 2.0):\n",
    "            \n",
    "            # Check that we haven't found the original Al atom! Otherwise angle will equal zero\n",
    "            if atom_Al != atom_X:\n",
    "                angle = atoms.angle(atom_Al, atom_O, atom_X, degrees=True)\n",
    "                \n",
    "                # Append it to our list\n",
    "                angles.append(angle)\n",
    "        \n",
    "print(\"Mean bond angle =\", mean(angles), \"+-\", std(angles))"
   ]
  },
  {
   "cell_type": "markdown",
   "metadata": {},
   "source": [
    "Plotting this distribution as a histogram we can see that there are two populations of bond angles, corresponding to the T1 (four-coordinated) and T2 (three-coordinated) sites."
   ]
  },
  {
   "cell_type": "code",
   "execution_count": 11,
   "metadata": {
    "collapsed": false
   },
   "outputs": [
    {
     "data": {
      "text/plain": [
       "(array([  6.,  20.,  22.,  26.,  16.,  16.,   8.,  13.,  14.,   3.,   0.,\n",
       "          0.,   0.,   6.,   4.,   4.,   3.,   1.,   4.,   2.]),\n",
       " array([ 112.17244747,  113.33907751,  114.50570755,  115.67233759,\n",
       "         116.83896763,  118.00559767,  119.17222771,  120.33885775,\n",
       "         121.5054878 ,  122.67211784,  123.83874788,  125.00537792,\n",
       "         126.17200796,  127.338638  ,  128.50526804,  129.67189808,\n",
       "         130.83852812,  132.00515816,  133.1717882 ,  134.33841824,\n",
       "         135.50504828]),\n",
       " <a list of 20 Patch objects>)"
      ]
     },
     "execution_count": 11,
     "metadata": {},
     "output_type": "execute_result"
    },
    {
     "data": {
      "image/png": "[encoded data removed]",
      "text/plain": [
       "<matplotlib.figure.Figure at 0x1080fafd0>"
      ]
     },
     "metadata": {},
     "output_type": "display_data"
    }
   ],
   "source": [
    "hist(angles, bins=20)"
   ]
  }
 ],
 "metadata": {
  "kernelspec": {
   "display_name": "Python 3",
   "language": "python",
   "name": "python3"
  },
  "language_info": {
   "codemirror_mode": {
    "name": "ipython",
    "version": 3
   },
   "file_extension": ".py",
   "mimetype": "text/x-python",
   "name": "python",
   "nbconvert_exporter": "python",
   "pygments_lexer": "ipython3",
   "version": "3.5.1"
  }
 },
 "nbformat": 4,
 "nbformat_minor": 0
}
